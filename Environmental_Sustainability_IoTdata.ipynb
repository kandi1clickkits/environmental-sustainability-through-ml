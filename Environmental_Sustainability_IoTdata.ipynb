{
 "cells": [
  {
   "cell_type": "markdown",
   "id": "68157ca2",
   "metadata": {},
   "source": [
    "## Energy Sustainability "
   ]
  },
  {
   "cell_type": "markdown",
   "id": "47243dce",
   "metadata": {},
   "source": [
    "Import essential libraries for analysis\n"
   ]
  },
  {
   "cell_type": "code",
   "execution_count": 1,
   "id": "ed70cc44",
   "metadata": {},
   "outputs": [],
   "source": [
    "import pandas as pd\n",
    "import numpy as np\n",
    "from sklearn.model_selection import train_test_split\n",
    "from sklearn import metrics\n",
    "from sklearn.metrics import confusion_matrix, ConfusionMatrixDisplay\n",
    "import matplotlib.pyplot as plt"
   ]
  },
  {
   "cell_type": "markdown",
   "id": "401fb9ce",
   "metadata": {},
   "source": [
    "Load the IoT Sensor data"
   ]
  },
  {
   "cell_type": "code",
   "execution_count": 2,
   "id": "fd07a83c",
   "metadata": {},
   "outputs": [],
   "source": [
    "TRAIN_FILE = r\"data/BO5341_IoTData.csv\"\n",
    "TEST_FILE = r\"sample_predict.csv\"\n",
    "OUTPUT_FILE= \"sample_predict_output.csv\"\n",
    "test_data_ratio = 0.9"
   ]
  },
  {
   "cell_type": "code",
   "execution_count": 3,
   "id": "b3bb3c1a",
   "metadata": {},
   "outputs": [],
   "source": [
    "df_iot = pd.read_csv(TRAIN_FILE)"
   ]
  },
  {
   "cell_type": "code",
   "execution_count": 4,
   "id": "be731f94",
   "metadata": {},
   "outputs": [
    {
     "data": {
      "text/html": [
       "<div>\n",
       "<style scoped>\n",
       "    .dataframe tbody tr th:only-of-type {\n",
       "        vertical-align: middle;\n",
       "    }\n",
       "\n",
       "    .dataframe tbody tr th {\n",
       "        vertical-align: top;\n",
       "    }\n",
       "\n",
       "    .dataframe thead th {\n",
       "        text-align: right;\n",
       "    }\n",
       "</style>\n",
       "<table border=\"1\" class=\"dataframe\">\n",
       "  <thead>\n",
       "    <tr style=\"text-align: right;\">\n",
       "      <th></th>\n",
       "      <th>X</th>\n",
       "      <th>Product_Qty_Unit</th>\n",
       "      <th>Product_ID</th>\n",
       "      <th>Production_Start_Time</th>\n",
       "      <th>Output_QualityParameter1</th>\n",
       "      <th>Material_ID</th>\n",
       "      <th>Product_Name</th>\n",
       "      <th>Output_QualityParameter2</th>\n",
       "      <th>Output_QualityParameter3</th>\n",
       "      <th>Output_QualityParameter4</th>\n",
       "      <th>...</th>\n",
       "      <th>Stage5_QP1_Actual</th>\n",
       "      <th>Stage5_QP1_High</th>\n",
       "      <th>Stage5_QP2_Low</th>\n",
       "      <th>Stage5_QP2_Actual</th>\n",
       "      <th>Stage5_QP2_High</th>\n",
       "      <th>Stage5_QP3_Low</th>\n",
       "      <th>Stage5_QP3_Actual</th>\n",
       "      <th>Stage5_QP3_High</th>\n",
       "      <th>Stage5_ResourceName</th>\n",
       "      <th>Detergent_Quality</th>\n",
       "    </tr>\n",
       "  </thead>\n",
       "  <tbody>\n",
       "    <tr>\n",
       "      <th>0</th>\n",
       "      <td>1</td>\n",
       "      <td>KG</td>\n",
       "      <td>Product_0407</td>\n",
       "      <td>40656</td>\n",
       "      <td>380.000000</td>\n",
       "      <td>1234</td>\n",
       "      <td>Tide Plus Oxi</td>\n",
       "      <td>15625.00000</td>\n",
       "      <td>39000.0000</td>\n",
       "      <td>7550.0000</td>\n",
       "      <td>...</td>\n",
       "      <td>224.0000</td>\n",
       "      <td>230.0000</td>\n",
       "      <td>0</td>\n",
       "      <td>4.5000</td>\n",
       "      <td>18.0000</td>\n",
       "      <td>0</td>\n",
       "      <td>0.00000</td>\n",
       "      <td>0</td>\n",
       "      <td>Resource_108</td>\n",
       "      <td>Good</td>\n",
       "    </tr>\n",
       "    <tr>\n",
       "      <th>1</th>\n",
       "      <td>2</td>\n",
       "      <td>KG</td>\n",
       "      <td>Product_0407</td>\n",
       "      <td>201026</td>\n",
       "      <td>391.082110</td>\n",
       "      <td>1234</td>\n",
       "      <td>Tide Plus Oxi</td>\n",
       "      <td>14202.98200</td>\n",
       "      <td>36257.6125</td>\n",
       "      <td>7151.5015</td>\n",
       "      <td>...</td>\n",
       "      <td>231.3225</td>\n",
       "      <td>231.3225</td>\n",
       "      <td>0</td>\n",
       "      <td>18.1476</td>\n",
       "      <td>18.1476</td>\n",
       "      <td>0</td>\n",
       "      <td>0.00000</td>\n",
       "      <td>0</td>\n",
       "      <td>Resource_108</td>\n",
       "      <td>Good</td>\n",
       "    </tr>\n",
       "    <tr>\n",
       "      <th>2</th>\n",
       "      <td>3</td>\n",
       "      <td>KG</td>\n",
       "      <td>Product_0407</td>\n",
       "      <td>81616</td>\n",
       "      <td>386.162120</td>\n",
       "      <td>1234</td>\n",
       "      <td>Tide Plus Oxi</td>\n",
       "      <td>16356.86700</td>\n",
       "      <td>39566.6110</td>\n",
       "      <td>8368.5133</td>\n",
       "      <td>...</td>\n",
       "      <td>232.6450</td>\n",
       "      <td>232.6450</td>\n",
       "      <td>0</td>\n",
       "      <td>70.1316</td>\n",
       "      <td>18.2952</td>\n",
       "      <td>0</td>\n",
       "      <td>2.17962</td>\n",
       "      <td>0</td>\n",
       "      <td>Resource_108</td>\n",
       "      <td>Good</td>\n",
       "    </tr>\n",
       "    <tr>\n",
       "      <th>3</th>\n",
       "      <td>4</td>\n",
       "      <td>KG</td>\n",
       "      <td>Product_0407</td>\n",
       "      <td>202857</td>\n",
       "      <td>392.747275</td>\n",
       "      <td>1234</td>\n",
       "      <td>Tide Plus Oxi</td>\n",
       "      <td>12883.11125</td>\n",
       "      <td>36072.7115</td>\n",
       "      <td>7164.5108</td>\n",
       "      <td>...</td>\n",
       "      <td>223.7950</td>\n",
       "      <td>233.9675</td>\n",
       "      <td>0</td>\n",
       "      <td>4.6107</td>\n",
       "      <td>18.4428</td>\n",
       "      <td>0</td>\n",
       "      <td>0.00000</td>\n",
       "      <td>0</td>\n",
       "      <td>Resource_108</td>\n",
       "      <td>Good</td>\n",
       "    </tr>\n",
       "    <tr>\n",
       "      <th>4</th>\n",
       "      <td>5</td>\n",
       "      <td>KG</td>\n",
       "      <td>Product_0407</td>\n",
       "      <td>81630</td>\n",
       "      <td>386.824660</td>\n",
       "      <td>1234</td>\n",
       "      <td>Tide Plus Oxi</td>\n",
       "      <td>12485.47900</td>\n",
       "      <td>34779.1900</td>\n",
       "      <td>8256.9300</td>\n",
       "      <td>...</td>\n",
       "      <td>231.1980</td>\n",
       "      <td>235.2900</td>\n",
       "      <td>0</td>\n",
       "      <td>4.6476</td>\n",
       "      <td>18.5904</td>\n",
       "      <td>0</td>\n",
       "      <td>0.00000</td>\n",
       "      <td>0</td>\n",
       "      <td>Resource_108</td>\n",
       "      <td>Good</td>\n",
       "    </tr>\n",
       "  </tbody>\n",
       "</table>\n",
       "<p>5 rows × 122 columns</p>\n",
       "</div>"
      ],
      "text/plain": [
       "   X Product_Qty_Unit    Product_ID  Production_Start_Time  \\\n",
       "0  1               KG  Product_0407                  40656   \n",
       "1  2               KG  Product_0407                 201026   \n",
       "2  3               KG  Product_0407                  81616   \n",
       "3  4               KG  Product_0407                 202857   \n",
       "4  5               KG  Product_0407                  81630   \n",
       "\n",
       "   Output_QualityParameter1  Material_ID   Product_Name  \\\n",
       "0                380.000000         1234  Tide Plus Oxi   \n",
       "1                391.082110         1234  Tide Plus Oxi   \n",
       "2                386.162120         1234  Tide Plus Oxi   \n",
       "3                392.747275         1234  Tide Plus Oxi   \n",
       "4                386.824660         1234  Tide Plus Oxi   \n",
       "\n",
       "   Output_QualityParameter2  Output_QualityParameter3  \\\n",
       "0               15625.00000                39000.0000   \n",
       "1               14202.98200                36257.6125   \n",
       "2               16356.86700                39566.6110   \n",
       "3               12883.11125                36072.7115   \n",
       "4               12485.47900                34779.1900   \n",
       "\n",
       "   Output_QualityParameter4  ...  Stage5_QP1_Actual Stage5_QP1_High  \\\n",
       "0                 7550.0000  ...           224.0000        230.0000   \n",
       "1                 7151.5015  ...           231.3225        231.3225   \n",
       "2                 8368.5133  ...           232.6450        232.6450   \n",
       "3                 7164.5108  ...           223.7950        233.9675   \n",
       "4                 8256.9300  ...           231.1980        235.2900   \n",
       "\n",
       "   Stage5_QP2_Low  Stage5_QP2_Actual Stage5_QP2_High Stage5_QP3_Low  \\\n",
       "0               0             4.5000         18.0000              0   \n",
       "1               0            18.1476         18.1476              0   \n",
       "2               0            70.1316         18.2952              0   \n",
       "3               0             4.6107         18.4428              0   \n",
       "4               0             4.6476         18.5904              0   \n",
       "\n",
       "  Stage5_QP3_Actual Stage5_QP3_High Stage5_ResourceName  Detergent_Quality  \n",
       "0           0.00000               0        Resource_108               Good  \n",
       "1           0.00000               0        Resource_108               Good  \n",
       "2           2.17962               0        Resource_108               Good  \n",
       "3           0.00000               0        Resource_108               Good  \n",
       "4           0.00000               0        Resource_108               Good  \n",
       "\n",
       "[5 rows x 122 columns]"
      ]
     },
     "execution_count": 4,
     "metadata": {},
     "output_type": "execute_result"
    }
   ],
   "source": [
    "#preview loaded data\n",
    "df_iot.head()"
   ]
  },
  {
   "cell_type": "code",
   "execution_count": 5,
   "id": "6e03ad3e",
   "metadata": {},
   "outputs": [],
   "source": [
    "#Dropping some features\n",
    "df=df_iot.drop(['Product_Qty_Unit','Product_ID','Product_Name','AssemblyLine_ID','Site_location','Stage1_PrevProduct','Stage1_ResourceName','Stage2_QP3_High','Stage3_ResourceName','Stage4_PrevProduct','Stage4_QP3_High','Stage4_ResourceName','Stage5_PrevProduct','Stage5_ResourceName','Detergent_Quality','Manufacturing_StartDate','Manufacturing_EndDate','Manufacturing_StartTS','Manufacturing_EndTS'],axis=1)"
   ]
  },
  {
   "cell_type": "code",
   "execution_count": 6,
   "id": "0e9b55c6",
   "metadata": {},
   "outputs": [
    {
     "data": {
      "text/html": [
       "<div>\n",
       "<style scoped>\n",
       "    .dataframe tbody tr th:only-of-type {\n",
       "        vertical-align: middle;\n",
       "    }\n",
       "\n",
       "    .dataframe tbody tr th {\n",
       "        vertical-align: top;\n",
       "    }\n",
       "\n",
       "    .dataframe thead th {\n",
       "        text-align: right;\n",
       "    }\n",
       "</style>\n",
       "<table border=\"1\" class=\"dataframe\">\n",
       "  <thead>\n",
       "    <tr style=\"text-align: right;\">\n",
       "      <th></th>\n",
       "      <th>X</th>\n",
       "      <th>Production_Start_Time</th>\n",
       "      <th>Output_QualityParameter1</th>\n",
       "      <th>Material_ID</th>\n",
       "      <th>Output_QualityParameter2</th>\n",
       "      <th>Output_QualityParameter3</th>\n",
       "      <th>Output_QualityParameter4</th>\n",
       "      <th>ManufacturingOrder_ID</th>\n",
       "      <th>Order_Quantity</th>\n",
       "      <th>Produced_Quantity</th>\n",
       "      <th>...</th>\n",
       "      <th>Stage5_DelayFlag</th>\n",
       "      <th>Stage5_QP1_Low</th>\n",
       "      <th>Stage5_QP1_Actual</th>\n",
       "      <th>Stage5_QP1_High</th>\n",
       "      <th>Stage5_QP2_Low</th>\n",
       "      <th>Stage5_QP2_Actual</th>\n",
       "      <th>Stage5_QP2_High</th>\n",
       "      <th>Stage5_QP3_Low</th>\n",
       "      <th>Stage5_QP3_Actual</th>\n",
       "      <th>Stage5_QP3_High</th>\n",
       "    </tr>\n",
       "  </thead>\n",
       "  <tbody>\n",
       "    <tr>\n",
       "      <th>0</th>\n",
       "      <td>1</td>\n",
       "      <td>40656</td>\n",
       "      <td>380.000000</td>\n",
       "      <td>1234</td>\n",
       "      <td>15625.00000</td>\n",
       "      <td>39000.0000</td>\n",
       "      <td>7550.0000</td>\n",
       "      <td>1</td>\n",
       "      <td>3800</td>\n",
       "      <td>0.0</td>\n",
       "      <td>...</td>\n",
       "      <td>Yes</td>\n",
       "      <td>210.0000</td>\n",
       "      <td>224.0000</td>\n",
       "      <td>230.0000</td>\n",
       "      <td>0</td>\n",
       "      <td>4.5000</td>\n",
       "      <td>18.0000</td>\n",
       "      <td>0</td>\n",
       "      <td>0.00000</td>\n",
       "      <td>0</td>\n",
       "    </tr>\n",
       "    <tr>\n",
       "      <th>1</th>\n",
       "      <td>2</td>\n",
       "      <td>201026</td>\n",
       "      <td>391.082110</td>\n",
       "      <td>1234</td>\n",
       "      <td>14202.98200</td>\n",
       "      <td>36257.6125</td>\n",
       "      <td>7151.5015</td>\n",
       "      <td>2</td>\n",
       "      <td>3800</td>\n",
       "      <td>3140.0</td>\n",
       "      <td>...</td>\n",
       "      <td>No</td>\n",
       "      <td>211.2075</td>\n",
       "      <td>231.3225</td>\n",
       "      <td>231.3225</td>\n",
       "      <td>0</td>\n",
       "      <td>18.1476</td>\n",
       "      <td>18.1476</td>\n",
       "      <td>0</td>\n",
       "      <td>0.00000</td>\n",
       "      <td>0</td>\n",
       "    </tr>\n",
       "    <tr>\n",
       "      <th>2</th>\n",
       "      <td>3</td>\n",
       "      <td>81616</td>\n",
       "      <td>386.162120</td>\n",
       "      <td>1234</td>\n",
       "      <td>16356.86700</td>\n",
       "      <td>39566.6110</td>\n",
       "      <td>8368.5133</td>\n",
       "      <td>3</td>\n",
       "      <td>3800</td>\n",
       "      <td>0.0</td>\n",
       "      <td>...</td>\n",
       "      <td>Yes</td>\n",
       "      <td>212.4150</td>\n",
       "      <td>232.6450</td>\n",
       "      <td>232.6450</td>\n",
       "      <td>0</td>\n",
       "      <td>70.1316</td>\n",
       "      <td>18.2952</td>\n",
       "      <td>0</td>\n",
       "      <td>2.17962</td>\n",
       "      <td>0</td>\n",
       "    </tr>\n",
       "    <tr>\n",
       "      <th>3</th>\n",
       "      <td>4</td>\n",
       "      <td>202857</td>\n",
       "      <td>392.747275</td>\n",
       "      <td>1234</td>\n",
       "      <td>12883.11125</td>\n",
       "      <td>36072.7115</td>\n",
       "      <td>7164.5108</td>\n",
       "      <td>4</td>\n",
       "      <td>3800</td>\n",
       "      <td>3800.0</td>\n",
       "      <td>...</td>\n",
       "      <td>Yes</td>\n",
       "      <td>213.6225</td>\n",
       "      <td>223.7950</td>\n",
       "      <td>233.9675</td>\n",
       "      <td>0</td>\n",
       "      <td>4.6107</td>\n",
       "      <td>18.4428</td>\n",
       "      <td>0</td>\n",
       "      <td>0.00000</td>\n",
       "      <td>0</td>\n",
       "    </tr>\n",
       "    <tr>\n",
       "      <th>4</th>\n",
       "      <td>5</td>\n",
       "      <td>81630</td>\n",
       "      <td>386.824660</td>\n",
       "      <td>1234</td>\n",
       "      <td>12485.47900</td>\n",
       "      <td>34779.1900</td>\n",
       "      <td>8256.9300</td>\n",
       "      <td>5</td>\n",
       "      <td>3800</td>\n",
       "      <td>0.0</td>\n",
       "      <td>...</td>\n",
       "      <td>No</td>\n",
       "      <td>214.8300</td>\n",
       "      <td>231.1980</td>\n",
       "      <td>235.2900</td>\n",
       "      <td>0</td>\n",
       "      <td>4.6476</td>\n",
       "      <td>18.5904</td>\n",
       "      <td>0</td>\n",
       "      <td>0.00000</td>\n",
       "      <td>0</td>\n",
       "    </tr>\n",
       "  </tbody>\n",
       "</table>\n",
       "<p>5 rows × 103 columns</p>\n",
       "</div>"
      ],
      "text/plain": [
       "   X  Production_Start_Time  Output_QualityParameter1  Material_ID  \\\n",
       "0  1                  40656                380.000000         1234   \n",
       "1  2                 201026                391.082110         1234   \n",
       "2  3                  81616                386.162120         1234   \n",
       "3  4                 202857                392.747275         1234   \n",
       "4  5                  81630                386.824660         1234   \n",
       "\n",
       "   Output_QualityParameter2  Output_QualityParameter3  \\\n",
       "0               15625.00000                39000.0000   \n",
       "1               14202.98200                36257.6125   \n",
       "2               16356.86700                39566.6110   \n",
       "3               12883.11125                36072.7115   \n",
       "4               12485.47900                34779.1900   \n",
       "\n",
       "   Output_QualityParameter4  ManufacturingOrder_ID  Order_Quantity  \\\n",
       "0                 7550.0000                      1            3800   \n",
       "1                 7151.5015                      2            3800   \n",
       "2                 8368.5133                      3            3800   \n",
       "3                 7164.5108                      4            3800   \n",
       "4                 8256.9300                      5            3800   \n",
       "\n",
       "   Produced_Quantity  ...  Stage5_DelayFlag Stage5_QP1_Low  Stage5_QP1_Actual  \\\n",
       "0                0.0  ...               Yes       210.0000           224.0000   \n",
       "1             3140.0  ...                No       211.2075           231.3225   \n",
       "2                0.0  ...               Yes       212.4150           232.6450   \n",
       "3             3800.0  ...               Yes       213.6225           223.7950   \n",
       "4                0.0  ...                No       214.8300           231.1980   \n",
       "\n",
       "   Stage5_QP1_High  Stage5_QP2_Low  Stage5_QP2_Actual  Stage5_QP2_High  \\\n",
       "0         230.0000               0             4.5000          18.0000   \n",
       "1         231.3225               0            18.1476          18.1476   \n",
       "2         232.6450               0            70.1316          18.2952   \n",
       "3         233.9675               0             4.6107          18.4428   \n",
       "4         235.2900               0             4.6476          18.5904   \n",
       "\n",
       "   Stage5_QP3_Low  Stage5_QP3_Actual  Stage5_QP3_High  \n",
       "0               0            0.00000                0  \n",
       "1               0            0.00000                0  \n",
       "2               0            2.17962                0  \n",
       "3               0            0.00000                0  \n",
       "4               0            0.00000                0  \n",
       "\n",
       "[5 rows x 103 columns]"
      ]
     },
     "execution_count": 6,
     "metadata": {},
     "output_type": "execute_result"
    }
   ],
   "source": [
    "# Viewing first 5 rows\n",
    "df.head()"
   ]
  },
  {
   "cell_type": "code",
   "execution_count": 7,
   "id": "4f8db4df",
   "metadata": {},
   "outputs": [],
   "source": [
    "#Setting Flag's to numerical values\n",
    "df['Stage1_ProductChange_Flag'] = np.where(df['Stage1_ProductChange_Flag'] == 'Yes', 1, 0)\n",
    "df['Stage1_DelayFlag'] = np.where(df['Stage1_DelayFlag'] == 'Yes', 1, 0)\n",
    "df['Stage2_DelayFlag'] = np.where(df['Stage2_DelayFlag'] == 'Yes', 1, 0)\n",
    "df['Stage2_ProductChange_Flag'] = np.where(df['Stage2_ProductChange_Flag'] == 'Yes', 1, 0)\n",
    "df['Stage3_DelayFlag'] = np.where(df['Stage3_DelayFlag'] == 'Yes', 1, 0)\n",
    "df['Stage3_ProductChange_Flag'] = np.where(df['Stage3_ProductChange_Flag'] == 'Yes', 1, 0)\n",
    "df['Stage4_DelayFlag'] = np.where(df['Stage4_DelayFlag'] == 'Yes', 1, 0)\n",
    "df['Stage5_ProductChange_Flag'] = np.where(df['Stage5_ProductChange_Flag'] == 'Yes', 1, 0)\n",
    "df['Stage5_DelayFlag'] = np.where(df['Stage1_ProductChange_Flag'] == 'Yes', 1, 0)"
   ]
  },
  {
   "cell_type": "code",
   "execution_count": 8,
   "id": "d533a682",
   "metadata": {},
   "outputs": [],
   "source": [
    "label=np.where(df_iot['Detergent_Quality']=='Good',1,0)"
   ]
  },
  {
   "cell_type": "code",
   "execution_count": 9,
   "id": "0e3ccb9f",
   "metadata": {},
   "outputs": [
    {
     "data": {
      "text/plain": [
       "(1000, 103)"
      ]
     },
     "execution_count": 9,
     "metadata": {},
     "output_type": "execute_result"
    }
   ],
   "source": [
    "df.shape"
   ]
  },
  {
   "cell_type": "code",
   "execution_count": 10,
   "id": "2998cd6d",
   "metadata": {},
   "outputs": [],
   "source": [
    "# train,test = df_iot.split_frame(ratios=[.9],  seed=21)\n",
    "X_train, X_test, y_train, y_test=train_test_split(df, label, test_size=test_data_ratio, random_state = 122)"
   ]
  },
  {
   "cell_type": "code",
   "execution_count": 11,
   "id": "8ebd0ea3",
   "metadata": {},
   "outputs": [],
   "source": [
    "# Function for deriving a classification report & Confusion matrix for any algorithm\n",
    "def compute_metrics(data, y_true, model_obj, model):\n",
    "\n",
    "        # Make predictions\n",
    "    y_pred = model_obj.predict(data)\n",
    "    print(metrics.classification_report(y_true, y_pred,target_names = ['good', 'bad']))\n",
    "    \n",
    "    cm = confusion_matrix(y_true, y_pred, labels=model_obj.classes_)\n",
    "    disp = ConfusionMatrixDisplay(confusion_matrix=cm,display_labels=['good', 'bad'])\n",
    "    disp.plot()\n",
    "    plt.show()"
   ]
  },
  {
   "cell_type": "code",
   "execution_count": 12,
   "id": "819ccf04",
   "metadata": {},
   "outputs": [
    {
     "name": "stderr",
     "output_type": "stream",
     "text": [
      "C:\\Python\\lib\\site-packages\\sklearn\\linear_model\\_logistic.py:444: ConvergenceWarning: lbfgs failed to converge (status=1):\n",
      "STOP: TOTAL NO. of ITERATIONS REACHED LIMIT.\n",
      "\n",
      "Increase the number of iterations (max_iter) or scale the data as shown in:\n",
      "    https://scikit-learn.org/stable/modules/preprocessing.html\n",
      "Please also refer to the documentation for alternative solver options:\n",
      "    https://scikit-learn.org/stable/modules/linear_model.html#logistic-regression\n",
      "  n_iter_i = _check_optimize_result(\n",
      "C:\\Python\\lib\\site-packages\\sklearn\\linear_model\\_logistic.py:444: ConvergenceWarning: lbfgs failed to converge (status=1):\n",
      "STOP: TOTAL NO. of ITERATIONS REACHED LIMIT.\n",
      "\n",
      "Increase the number of iterations (max_iter) or scale the data as shown in:\n",
      "    https://scikit-learn.org/stable/modules/preprocessing.html\n",
      "Please also refer to the documentation for alternative solver options:\n",
      "    https://scikit-learn.org/stable/modules/linear_model.html#logistic-regression\n",
      "  n_iter_i = _check_optimize_result(\n",
      "C:\\Python\\lib\\site-packages\\sklearn\\linear_model\\_logistic.py:444: ConvergenceWarning: lbfgs failed to converge (status=1):\n",
      "STOP: TOTAL NO. of ITERATIONS REACHED LIMIT.\n",
      "\n",
      "Increase the number of iterations (max_iter) or scale the data as shown in:\n",
      "    https://scikit-learn.org/stable/modules/preprocessing.html\n",
      "Please also refer to the documentation for alternative solver options:\n",
      "    https://scikit-learn.org/stable/modules/linear_model.html#logistic-regression\n",
      "  n_iter_i = _check_optimize_result(\n",
      "C:\\Python\\lib\\site-packages\\sklearn\\linear_model\\_logistic.py:444: ConvergenceWarning: lbfgs failed to converge (status=1):\n",
      "STOP: TOTAL NO. of ITERATIONS REACHED LIMIT.\n",
      "\n",
      "Increase the number of iterations (max_iter) or scale the data as shown in:\n",
      "    https://scikit-learn.org/stable/modules/preprocessing.html\n",
      "Please also refer to the documentation for alternative solver options:\n",
      "    https://scikit-learn.org/stable/modules/linear_model.html#logistic-regression\n",
      "  n_iter_i = _check_optimize_result(\n"
     ]
    },
    {
     "data": {
      "text/html": [
       "<style>#sk-container-id-1 {color: black;background-color: white;}#sk-container-id-1 pre{padding: 0;}#sk-container-id-1 div.sk-toggleable {background-color: white;}#sk-container-id-1 label.sk-toggleable__label {cursor: pointer;display: block;width: 100%;margin-bottom: 0;padding: 0.3em;box-sizing: border-box;text-align: center;}#sk-container-id-1 label.sk-toggleable__label-arrow:before {content: \"▸\";float: left;margin-right: 0.25em;color: #696969;}#sk-container-id-1 label.sk-toggleable__label-arrow:hover:before {color: black;}#sk-container-id-1 div.sk-estimator:hover label.sk-toggleable__label-arrow:before {color: black;}#sk-container-id-1 div.sk-toggleable__content {max-height: 0;max-width: 0;overflow: hidden;text-align: left;background-color: #f0f8ff;}#sk-container-id-1 div.sk-toggleable__content pre {margin: 0.2em;color: black;border-radius: 0.25em;background-color: #f0f8ff;}#sk-container-id-1 input.sk-toggleable__control:checked~div.sk-toggleable__content {max-height: 200px;max-width: 100%;overflow: auto;}#sk-container-id-1 input.sk-toggleable__control:checked~label.sk-toggleable__label-arrow:before {content: \"▾\";}#sk-container-id-1 div.sk-estimator input.sk-toggleable__control:checked~label.sk-toggleable__label {background-color: #d4ebff;}#sk-container-id-1 div.sk-label input.sk-toggleable__control:checked~label.sk-toggleable__label {background-color: #d4ebff;}#sk-container-id-1 input.sk-hidden--visually {border: 0;clip: rect(1px 1px 1px 1px);clip: rect(1px, 1px, 1px, 1px);height: 1px;margin: -1px;overflow: hidden;padding: 0;position: absolute;width: 1px;}#sk-container-id-1 div.sk-estimator {font-family: monospace;background-color: #f0f8ff;border: 1px dotted black;border-radius: 0.25em;box-sizing: border-box;margin-bottom: 0.5em;}#sk-container-id-1 div.sk-estimator:hover {background-color: #d4ebff;}#sk-container-id-1 div.sk-parallel-item::after {content: \"\";width: 100%;border-bottom: 1px solid gray;flex-grow: 1;}#sk-container-id-1 div.sk-label:hover label.sk-toggleable__label {background-color: #d4ebff;}#sk-container-id-1 div.sk-serial::before {content: \"\";position: absolute;border-left: 1px solid gray;box-sizing: border-box;top: 0;bottom: 0;left: 50%;z-index: 0;}#sk-container-id-1 div.sk-serial {display: flex;flex-direction: column;align-items: center;background-color: white;padding-right: 0.2em;padding-left: 0.2em;position: relative;}#sk-container-id-1 div.sk-item {position: relative;z-index: 1;}#sk-container-id-1 div.sk-parallel {display: flex;align-items: stretch;justify-content: center;background-color: white;position: relative;}#sk-container-id-1 div.sk-item::before, #sk-container-id-1 div.sk-parallel-item::before {content: \"\";position: absolute;border-left: 1px solid gray;box-sizing: border-box;top: 0;bottom: 0;left: 50%;z-index: -1;}#sk-container-id-1 div.sk-parallel-item {display: flex;flex-direction: column;z-index: 1;position: relative;background-color: white;}#sk-container-id-1 div.sk-parallel-item:first-child::after {align-self: flex-end;width: 50%;}#sk-container-id-1 div.sk-parallel-item:last-child::after {align-self: flex-start;width: 50%;}#sk-container-id-1 div.sk-parallel-item:only-child::after {width: 0;}#sk-container-id-1 div.sk-dashed-wrapped {border: 1px dashed gray;margin: 0 0.4em 0.5em 0.4em;box-sizing: border-box;padding-bottom: 0.4em;background-color: white;}#sk-container-id-1 div.sk-label label {font-family: monospace;font-weight: bold;display: inline-block;line-height: 1.2em;}#sk-container-id-1 div.sk-label-container {text-align: center;}#sk-container-id-1 div.sk-container {/* jupyter's `normalize.less` sets `[hidden] { display: none; }` but bootstrap.min.css set `[hidden] { display: none !important; }` so we also need the `!important` here to be able to override the default hidden behavior on the sphinx rendered scikit-learn.org. See: https://github.com/scikit-learn/scikit-learn/issues/21755 */display: inline-block !important;position: relative;}#sk-container-id-1 div.sk-text-repr-fallback {display: none;}</style><div id=\"sk-container-id-1\" class=\"sk-top-container\"><div class=\"sk-text-repr-fallback\"><pre>LogisticRegressionCV(Cs=20, cv=3, random_state=122)</pre><b>In a Jupyter environment, please rerun this cell to show the HTML representation or trust the notebook. <br />On GitHub, the HTML representation is unable to render, please try loading this page with nbviewer.org.</b></div><div class=\"sk-container\" hidden><div class=\"sk-item\"><div class=\"sk-estimator sk-toggleable\"><input class=\"sk-toggleable__control sk-hidden--visually\" id=\"sk-estimator-id-1\" type=\"checkbox\" checked><label for=\"sk-estimator-id-1\" class=\"sk-toggleable__label sk-toggleable__label-arrow\">LogisticRegressionCV</label><div class=\"sk-toggleable__content\"><pre>LogisticRegressionCV(Cs=20, cv=3, random_state=122)</pre></div></div></div></div></div>"
      ],
      "text/plain": [
       "LogisticRegressionCV(Cs=20, cv=3, random_state=122)"
      ]
     },
     "execution_count": 12,
     "metadata": {},
     "output_type": "execute_result"
    }
   ],
   "source": [
    "from sklearn.linear_model import LogisticRegressionCV,LogisticRegression\n",
    "from sklearn import svm\n",
    "# Initialize the model \n",
    "lr_reg = LogisticRegressionCV(Cs=20, cv=3, random_state=122)\n",
    "\n",
    "# fit the model\n",
    "lr_reg.fit(X_train, y_train)"
   ]
  },
  {
   "cell_type": "code",
   "execution_count": 13,
   "id": "479e691b",
   "metadata": {},
   "outputs": [
    {
     "name": "stdout",
     "output_type": "stream",
     "text": [
      "              precision    recall  f1-score   support\n",
      "\n",
      "        good       1.00      0.94      0.97        16\n",
      "         bad       0.99      1.00      0.99        84\n",
      "\n",
      "    accuracy                           0.99       100\n",
      "   macro avg       0.99      0.97      0.98       100\n",
      "weighted avg       0.99      0.99      0.99       100\n",
      "\n"
     ]
    },
    {
     "data": {
      "image/png": "[encoded data removed]",
      "text/plain": [
       "<Figure size 640x480 with 2 Axes>"
      ]
     },
     "metadata": {},
     "output_type": "display_data"
    }
   ],
   "source": [
    "lr_metrics_train =  compute_metrics(X_train, y_train, lr_reg, 'LogisticRegression')\n",
    "lr_metrics_train"
   ]
  },
  {
   "cell_type": "code",
   "execution_count": 14,
   "id": "3250bbe2",
   "metadata": {},
   "outputs": [
    {
     "name": "stdout",
     "output_type": "stream",
     "text": [
      "              precision    recall  f1-score   support\n",
      "\n",
      "        good       0.43      0.48      0.45       209\n",
      "         bad       0.84      0.80      0.82       691\n",
      "\n",
      "    accuracy                           0.73       900\n",
      "   macro avg       0.63      0.64      0.64       900\n",
      "weighted avg       0.74      0.73      0.73       900\n",
      "\n"
     ]
    },
    {
     "data": {
      "image/png": "[encoded data removed]",
      "text/plain": [
       "<Figure size 640x480 with 2 Axes>"
      ]
     },
     "metadata": {},
     "output_type": "display_data"
    }
   ],
   "source": [
    "lr_metrics =  compute_metrics(X_test, y_test, lr_reg, 'LogisticRegression')\n",
    "lr_metrics"
   ]
  },
  {
   "cell_type": "markdown",
   "id": "8b4a9408",
   "metadata": {},
   "source": [
    "#### Save/Download model"
   ]
  },
  {
   "cell_type": "code",
   "execution_count": 15,
   "id": "9127d83a",
   "metadata": {},
   "outputs": [],
   "source": [
    "import pickle\n",
    "with open(\"model.pkl\", \"wb\") as file:\n",
    "    pickle.dump(lr_reg, file)"
   ]
  },
  {
   "cell_type": "markdown",
   "id": "a273c0c9",
   "metadata": {},
   "source": [
    " "
   ]
  },
  {
   "cell_type": "markdown",
   "id": "c4c8bf7b",
   "metadata": {},
   "source": [
    "#### Sample data with prediction"
   ]
  },
  {
   "cell_type": "code",
   "execution_count": 16,
   "id": "01fb94ea",
   "metadata": {},
   "outputs": [],
   "source": [
    "with open(\"model.pkl\", \"rb\") as file:\n",
    "    model = pickle.load(file)"
   ]
  },
  {
   "cell_type": "code",
   "execution_count": 17,
   "id": "3b3b132a",
   "metadata": {},
   "outputs": [],
   "source": [
    "def preprocess(df_input):\n",
    "    #Dropping some features\n",
    "    df_input=df_input.drop(['Product_Qty_Unit','Product_ID','Product_Name','AssemblyLine_ID','Site_location','Stage1_PrevProduct','Stage1_ResourceName','Stage2_QP3_High','Stage3_ResourceName','Stage4_PrevProduct','Stage4_QP3_High','Stage4_ResourceName','Stage5_PrevProduct','Stage5_ResourceName','Manufacturing_StartDate','Manufacturing_EndDate','Manufacturing_StartTS','Manufacturing_EndTS'],axis=1)\n",
    "    #Setting Flag's to numerical values\n",
    "    df_input['Stage1_ProductChange_Flag'] = np.where(df_input['Stage1_ProductChange_Flag'] == 'Yes', 1, 0)\n",
    "    df_input['Stage1_DelayFlag'] = np.where(df_input['Stage1_DelayFlag'] == 'Yes', 1, 0)\n",
    "    df_input['Stage2_DelayFlag'] = np.where(df_input['Stage2_DelayFlag'] == 'Yes', 1, 0)\n",
    "    df_input['Stage2_ProductChange_Flag'] = np.where(df_input['Stage2_ProductChange_Flag'] == 'Yes', 1, 0)\n",
    "    df_input['Stage3_DelayFlag'] = np.where(df_input['Stage3_DelayFlag'] == 'Yes', 1, 0)\n",
    "    df_input['Stage3_ProductChange_Flag'] = np.where(df_input['Stage3_ProductChange_Flag'] == 'Yes', 1, 0)\n",
    "    df_input['Stage4_DelayFlag'] = np.where(df_input['Stage4_DelayFlag'] == 'Yes', 1, 0)\n",
    "    df_input['Stage5_ProductChange_Flag'] = np.where(df_input['Stage5_ProductChange_Flag'] == 'Yes', 1, 0)\n",
    "    df_input['Stage5_DelayFlag'] = np.where(df_input['Stage1_ProductChange_Flag'] == 'Yes', 1, 0)\n",
    "    return df_input"
   ]
  },
  {
   "cell_type": "code",
   "execution_count": 18,
   "id": "7c3d12dc",
   "metadata": {},
   "outputs": [],
   "source": [
    "sample_df=pd.read_csv(TEST_FILE)"
   ]
  },
  {
   "cell_type": "code",
   "execution_count": 19,
   "id": "ca8c52a6",
   "metadata": {},
   "outputs": [],
   "source": [
    "pre_processed_df=preprocess(sample_df)\n",
    "sample_df[\"Pedicted_Detergent_Quality\"]=model.predict(pre_processed_df)\n",
    "sample_df[\"Pedicted_Detergent_Quality\"]=np.where(sample_df['Pedicted_Detergent_Quality']==1,\"Good\",\"Bad\")\n",
    "sample_df.to_csv(OUTPUT_FILE,index=False)"
   ]
  },
  {
   "cell_type": "code",
   "execution_count": null,
   "id": "e4bbb96c",
   "metadata": {},
   "outputs": [],
   "source": []
  }
 ],
 "metadata": {
  "kernelspec": {
   "display_name": "Python 3 (ipykernel)",
   "language": "python",
   "name": "python3"
  },
  "language_info": {
   "codemirror_mode": {
    "name": "ipython",
    "version": 3
   },
   "file_extension": ".py",
   "mimetype": "text/x-python",
   "name": "python",
   "nbconvert_exporter": "python",
   "pygments_lexer": "ipython3",
   "version": "3.9.8"
  }
 },
 "nbformat": 4,
 "nbformat_minor": 5
}
